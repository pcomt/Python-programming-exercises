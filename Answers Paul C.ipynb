{
 "cells": [
  {
   "cell_type": "markdown",
   "metadata": {},
   "source": [
    "Question 1\n",
    "Level 1\n",
    "\n",
    "Question:\n",
    "Write a program which will find all such numbers which are divisible by 7 but are not a multiple of 5,\n",
    "between 2000 and 3200 (both included).\n",
    "The numbers obtained should be printed in a comma-separated sequence on a single line."
   ]
  },
  {
   "cell_type": "code",
   "execution_count": 5,
   "metadata": {},
   "outputs": [
    {
     "name": "stdout",
     "output_type": "stream",
     "text": [
      "2002, 2009, 2016, 2023, 2037, 2044, 2051, 2058, 2072, 2079, 2086, 2093, 2107, 2114, 2121, 2128, 2142, 2149, 2156, 2163, 2177, 2184, 2191, 2198, 2212, 2219, 2226, 2233, 2247, 2254, 2261, 2268, 2282, 2289, 2296, 2303, 2317, 2324, 2331, 2338, 2352, 2359, 2366, 2373, 2387, 2394, 2401, 2408, 2422, 2429, 2436, 2443, 2457, 2464, 2471, 2478, 2492, 2499, 2506, 2513, 2527, 2534, 2541, 2548, 2562, 2569, 2576, 2583, 2597, 2604, 2611, 2618, 2632, 2639, 2646, 2653, 2667, 2674, 2681, 2688, 2702, 2709, 2716, 2723, 2737, 2744, 2751, 2758, 2772, 2779, 2786, 2793, 2807, 2814, 2821, 2828, 2842, 2849, 2856, 2863, 2877, 2884, 2891, 2898, 2912, 2919, 2926, 2933, 2947, 2954, 2961, 2968, 2982, 2989, 2996, 3003, 3017, 3024, 3031, 3038, 3052, 3059, 3066, 3073, 3087, 3094, 3101, 3108, 3122, 3129, 3136, 3143, 3157, 3164, 3171, 3178, 3192, 3199, 2002,2009,2016,2023,2037,2044,2051,2058,2072,2079,2086,2093,2107,2114,2121,2128,2142,2149,2156,2163,2177,2184,2191,2198,2212,2219,2226,2233,2247,2254,2261,2268,2282,2289,2296,2303,2317,2324,2331,2338,2352,2359,2366,2373,2387,2394,2401,2408,2422,2429,2436,2443,2457,2464,2471,2478,2492,2499,2506,2513,2527,2534,2541,2548,2562,2569,2576,2583,2597,2604,2611,2618,2632,2639,2646,2653,2667,2674,2681,2688,2702,2709,2716,2723,2737,2744,2751,2758,2772,2779,2786,2793,2807,2814,2821,2828,2842,2849,2856,2863,2877,2884,2891,2898,2912,2919,2926,2933,2947,2954,2961,2968,2982,2989,2996,3003,3017,3024,3031,3038,3052,3059,3066,3073,3087,3094,3101,3108,3122,3129,3136,3143,3157,3164,3171,3178,3192,3199\n"
     ]
    }
   ],
   "source": [
    "# Ma réponse\n",
    "for number in range(2000,3201,1):\n",
    "    if (number % 7 == 0) and (number % 5 != 0):\n",
    "        print(number, end=\", \")\n",
    "\n",
    "#La correction\n",
    "l=[]\n",
    "for i in range(2000, 3201):\n",
    "    if (i%7==0) and (i%5!=0):\n",
    "        l.append(str(i))\n",
    "\n",
    "print(','.join(l))"
   ]
  },
  {
   "cell_type": "markdown",
   "metadata": {},
   "source": [
    "Question: Write a program which can compute the factorial of a given numbers. The results should be printed in a comma-separated sequence on a single line. Suppose the following input is supplied to the program: 8 Then, the output should be: 40320\n"
   ]
  },
  {
   "cell_type": "code",
   "execution_count": 9,
   "metadata": {},
   "outputs": [],
   "source": [
    "def factorielle(n):\n",
    "    if n == 0:\n",
    "        return 1\n",
    "    return n * factorielle(n-1)\n",
    "\n",
    "#A retenir : on peut appeler la fonction dans celle-ci, pratique pour les factorielles, les suites récurrentes etc"
   ]
  },
  {
   "cell_type": "markdown",
   "metadata": {},
   "source": [
    "Question: With a given integral number n, write a program to generate a dictionary that contains (i, i*i) such \n",
    "that is an integral number between 1 and n (both included). and then the program should print the dictionary. \n",
    "Suppose the following input is supplied to the program: 8 Then, the output should be: {1: 1, 2: 4, 3: 9, 4: 16, \n",
    "5: 25, 6: 36, 7: 49, 8: 64}"
   ]
  },
  {
   "cell_type": "code",
   "execution_count": 13,
   "metadata": {},
   "outputs": [
    {
     "name": "stdout",
     "output_type": "stream",
     "text": [
      "{1: 1, 2: 4, 3: 9, 4: 16, 5: 25, 6: 36}\n"
     ]
    }
   ],
   "source": [
    "#Ma réponse\n",
    "def carré(n):\n",
    "    return {i:i**2 for i in range(1,n+1)}\n",
    "\n",
    "#La correction\n",
    "n=int(input())\n",
    "d=dict()\n",
    "for i in range(1,n+1):\n",
    "    d[i]=i*i\n",
    "\n",
    "print(d)\n",
    "#Remarque : Je préfère ma version"
   ]
  },
  {
   "cell_type": "markdown",
   "metadata": {},
   "source": [
    "Question: Write a program which accepts a sequence of comma-separated numbers from console and generate a list \n",
    "and a tuple which contains every number. Suppose the following input is supplied to the program: 34,67,55,33,12,\n",
    "98 Then, the output should be: ['34', '67', '55', '33', '12', '98'] ('34', '67', '55', '33', '12', '98')"
   ]
  },
  {
   "cell_type": "code",
   "execution_count": 15,
   "metadata": {},
   "outputs": [],
   "source": [
    "#Ma réponse\n",
    "def lister_et_tupler(suite):\n",
    "    liste = suite.split(\",\")\n",
    "    print(liste , tuple(liste))\n",
    "#Elle est similaire à la correction"
   ]
  },
  {
   "cell_type": "markdown",
   "metadata": {},
   "source": [
    "Question: Write a program that calculates and prints the value according to the given formula: Q = Square root of \n",
    "[(2 * C * D)/H] Following are the fixed values of C and H: C is 50. H is 30. D is the variable whose values should \n",
    "be input to your program in a comma-separated sequence. Example Let us assume the following comma separated input \n",
    "sequence is given to the program: 100,150,180 The output of the program should be: 18,22,24"
   ]
  },
  {
   "cell_type": "code",
   "execution_count": 19,
   "metadata": {},
   "outputs": [
    {
     "name": "stdout",
     "output_type": "stream",
     "text": [
      "4,4,5\n"
     ]
    }
   ],
   "source": [
    "#Ma réponse\n",
    "def formula(D):\n",
    "    liste=D.split(\",\")\n",
    "    C, H = 50 , 30\n",
    "    Q = [ int(((2 * C * float(D)) / H)**0.5) for D in liste]\n",
    "    for i in range(0,len(Q)):\n",
    "        print(Q[i],end=\" \")\n",
    "\n",
    "#La correction\n",
    "import math\n",
    "c=50\n",
    "h=30\n",
    "value = []\n",
    "items=[x for x in input().split(',')]\n",
    "for d in items:\n",
    "    value.append(str(int(round(math.sqrt(2*c*float(d)/h)))))\n",
    "\n",
    "print(','.join(value))\n",
    "\n",
    "#Remarques : Pas vraiment besoin d'importer math pour une racine"
   ]
  },
  {
   "cell_type": "markdown",
   "metadata": {},
   "source": [
    "Question: Write a program which takes 2 digits, X,Y as input and generates a 2-dimensional array. The element \\nvalue in the i-th row and j-th column of the array should be i*j. Note: i=0,1.., X-1; j=0,1,¡\\xadY-1. Example \\nSuppose the following inputs are given to the program: 3,5 Then, the output of the program should be: \\n[[0, 0, 0, 0, 0], [0, 1, 2, 3, 4], [0, 2, 4, 6, 8]]"
   ]
  },
  {
   "cell_type": "code",
   "execution_count": 21,
   "metadata": {},
   "outputs": [
    {
     "name": "stdout",
     "output_type": "stream",
     "text": [
      "[[0, 0, 0, 0, 0, 0], [0, 1, 2, 3, 4, 5], [0, 2, 4, 6, 8, 10], [0, 3, 6, 9, 12, 15]]\n"
     ]
    }
   ],
   "source": [
    "#Ma réponse :\n",
    "def array(X,Y):\n",
    "    A = np.ones((X,Y))\n",
    "    for column in range(X):\n",
    "        for line in range(Y):\n",
    "            A[column,line] = column * line\n",
    "    print(A)\n",
    "\n",
    "\n",
    "#La correction:\n",
    "input_str = input()\n",
    "dimensions=[int(x) for x in input_str.split(',')]\n",
    "rowNum=dimensions[0]\n",
    "colNum=dimensions[1]\n",
    "multilist = [[0 for col in range(colNum)] for row in range(rowNum)]\n",
    "\n",
    "for row in range(rowNum):\n",
    "    for col in range(colNum):\n",
    "        multilist[row][col]= row*col\n",
    "\n",
    "print(multilist)"
   ]
  },
  {
   "cell_type": "markdown",
   "metadata": {},
   "source": [
    "Write a program that accepts a comma separated sequence of words as input and prints the words in a comma-separated\n",
    "sequence after sorting them alphabetically. Suppose the following input is supplied to the program: without,hello,\n",
    "bag,world Then, the output should be: bag,hello,without,world"
   ]
  },
  {
   "cell_type": "code",
   "execution_count": 25,
   "metadata": {},
   "outputs": [
    {
     "name": "stdout",
     "output_type": "stream",
     "text": [
      "arbre,lune\n"
     ]
    }
   ],
   "source": [
    "#Ma réponse:\n",
    "x = input(\"coma separated sequence of words\")\n",
    "items=[n for n in x.split(\",\")]\n",
    "print(\",\".join(sorted(items)))"
   ]
  },
  {
   "cell_type": "markdown",
   "metadata": {},
   "source": [
    "Write a program that accepts sequence of lines as input and prints the lines after making all characters in the \n",
    "sentence capitalized. Suppose the following input is supplied to the program: Hello world Practice makes perfect \n",
    "Then, the output should be: HELLO WORLD PRACTICE MAKES PERFECT"
   ]
  },
  {
   "cell_type": "code",
   "execution_count": 26,
   "metadata": {},
   "outputs": [
    {
     "name": "stdout",
     "output_type": "stream",
     "text": [
      "TEST\n"
     ]
    }
   ],
   "source": [
    "n = input(\"phrase\")\n",
    "print(n.upper())"
   ]
  },
  {
   "cell_type": "markdown",
   "metadata": {},
   "source": [
    "Write a program that accepts a sequence of whitespace separated words as input and prints the words after \n",
    "removing all duplicate words and sorting them alphanumerically.\n",
    "Suppose the following input is supplied to the program:\n",
    "hello world and practice makes perfect and hello world again\n",
    "Then, the output should be:\n",
    "again and hello makes perfect practice world"
   ]
  },
  {
   "cell_type": "code",
   "execution_count": 31,
   "metadata": {},
   "outputs": [
    {
     "name": "stdout",
     "output_type": "stream",
     "text": [
      "arbre, carrie, dent, zèbre\n",
      "arbre carrie dent zèbre\n"
     ]
    }
   ],
   "source": [
    "#Ma réponse : j'ai créé une liste vide et si l'élément n'est pas déjà dans cette liste, alors il s'y ajoute\n",
    "#Ca permet d'enlever les duplicatas de la première liste d'origine de manière simple\n",
    "\n",
    "a = input(\"mots séparés d'un espace\")\n",
    "liste_triée = []\n",
    "for element in a.split():\n",
    "    if element not in liste_triée:\n",
    "        liste_triée.append(element)\n",
    "print(\" \".join(sorted(liste_triée)))\n",
    "\n",
    "#C'est bien mais long, de manière plus rapide on aurait le set ; correction : \n",
    "\n",
    "s = input()\n",
    "words = [word for word in s.split(\" \")]\n",
    "print(\" \".join(sorted(list(set(words)))))"
   ]
  },
  {
   "cell_type": "markdown",
   "metadata": {},
   "source": [
    "Question:\n",
    "Write a program which accepts a sequence of comma separated 4 digit binary numbers as its input and then check \n",
    "whether they are divisible by 5 or not. The numbers that are divisible by 5 are to be printed in a comma separated\n",
    "sequence.\n",
    "Example:\n",
    "0100,0011,1010,1001\n",
    "Then the output should be:\n",
    "1010"
   ]
  },
  {
   "cell_type": "code",
   "execution_count": 33,
   "metadata": {},
   "outputs": [
    {
     "name": "stdout",
     "output_type": "stream",
     "text": [
      "1010,1111\n"
     ]
    }
   ],
   "source": [
    "\"\"\" Au départ de cette question, je voulais ajouter le préfixe \"0o\" à tous les nombres et les comparer \n",
    "à 0o101 (= 5) . Finalement C'est compliqué pour rien quand on peut utiliser int(nombre, 2) qui transforme\n",
    "un nombre binaire en le nombre souhaité\n",
    "\"\"\"\n",
    "#Exemple d'input : \"0100,0011,1010,1001,1111\"\n",
    "valeurs = input(\"valeurs binaires\")\n",
    "valeurs_div_5 = []\n",
    "for element in valeurs.split(\",\"):\n",
    "    if int(element,2) % 5 == 0:\n",
    "        valeurs_div_5.append(element)\n",
    "print(\",\".join(valeurs_div_5))"
   ]
  },
  {
   "cell_type": "code",
   "execution_count": null,
   "metadata": {},
   "outputs": [],
   "source": []
  }
 ],
 "metadata": {
  "kernelspec": {
   "display_name": "Python 3",
   "language": "python",
   "name": "python3"
  },
  "language_info": {
   "codemirror_mode": {
    "name": "ipython",
    "version": 3
   },
   "file_extension": ".py",
   "mimetype": "text/x-python",
   "name": "python",
   "nbconvert_exporter": "python",
   "pygments_lexer": "ipython3",
   "version": "3.10.13"
  }
 },
 "nbformat": 4,
 "nbformat_minor": 2
}
